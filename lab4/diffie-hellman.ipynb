{
 "cells": [
  {
   "cell_type": "markdown",
   "metadata": {},
   "source": [
    "# Diffie Hellman Key Exchange\n",
    "## Setup:"
   ]
  },
  {
   "cell_type": "markdown",
   "metadata": {},
   "source": [
    "In this exercise we implement the Diffie-Hellman-Key-Exchange-Algorithm.\n",
    "First we import all dependecies and initialize some variables:"
   ]
  },
  {
   "cell_type": "code",
   "execution_count": 1,
   "metadata": {
    "collapsed": true
   },
   "outputs": [],
   "source": [
    "import random\n",
    "from random import randint\n",
    "upper = 200\n",
    "isprime = False"
   ]
  },
  {
   "cell_type": "markdown",
   "metadata": {},
   "source": [
    "Test R-M dla potrzeb generowania liczb pierwszych "
   ]
  },
  {
   "cell_type": "code",
   "execution_count": 2,
   "metadata": {
    "collapsed": true
   },
   "outputs": [],
   "source": [
    "def rabinMiller(num):\n",
    "    d = num - 1    ##obliczamy wartości d i sa\n",
    "    s = 0\n",
    "    while d % 2 == 0:   ##usuwamy z num-1 dzielniki 2 zliczając je w s\n",
    "        d = d // 2\n",
    "        s += 1\n",
    "\n",
    "    for trials in range(6):   ## wykonujemy n testów R-B \n",
    "        a = random.randrange(2, num - 1)  ##losujemy baze a\n",
    "        b = pow(a, d, num)   ### pierwszy wyraz ciągu\n",
    "        if (b != 1) and (b != num-1): ## jeśli b nie spełnia warunków losujemy innego świadka\n",
    "            i = 1\n",
    "            while (i < s) and (b != (num - 1)):\n",
    "                b = (b ** 2) % num   ## obliczamy kolejne wyrazy ciągu R-M \n",
    "                if(b==1):          ## tylko ostatni wyraz może mieć wartość 1\n",
    "                    return False \n",
    "                i+=1\n",
    "                \n",
    "            if(b!=num-1):  ##przedpstatni wyraz musi mieć wartość num -1   \n",
    "                return False                \n",
    "    ### jeśli wykonaliśmy n testów i żaden nie zakończył się False \n",
    "    return True\n",
    "\n",
    "def checkprime(num):\n",
    "    if (num < 2):\n",
    "        return False # oczywista oczywistość \n",
    "    #opcjonalne można sprawdzić czy małe liczby pierwsze nie są czynnikami badanej liczby\n",
    "    \n",
    "    return rabinMiller(num)"
   ]
  },
  {
   "cell_type": "markdown",
   "metadata": {
    "collapsed": true
   },
   "source": [
    "## 1 Generowanie jawnych wspólnych parametrów \n",
    "1. Alice i Bob wybierają dużą liczbę pierwszą $p$ oraz liczbę pierwszą $q < p$ (tzw. generator ciała $Z^*_p$)"
   ]
  },
  {
   "cell_type": "code",
   "execution_count": 4,
   "metadata": {},
   "outputs": [
    {
     "name": "stdout",
     "output_type": "stream",
     "text": [
      "p = 197, q = 109\n",
      "\n"
     ]
    }
   ],
   "source": [
    "while(isprime == False):\n",
    "\tp = randint(2, upper)\n",
    "\tisprime = checkprime(p)\n",
    "\n",
    "isprime = False    \n",
    "while(isprime == False):    \n",
    "    q = randint(2, p)\n",
    "    isprime = checkprime(q)\n",
    "    \n",
    "print(\"p = {}, q = {}\\n\".format(p, q))"
   ]
  },
  {
   "cell_type": "markdown",
   "metadata": {
    "collapsed": true
   },
   "source": [
    "## 2. Generowanie sekretów  \n",
    "2. Alice i Bob w tajemnicy wybierając dwie liczby pierwsze mniejsze od $p-1$ "
   ]
  },
  {
   "cell_type": "code",
   "execution_count": 5,
   "metadata": {},
   "outputs": [
    {
     "name": "stdout",
     "output_type": "stream",
     "text": [
      "a = 107, b = 113\n",
      "\n"
     ]
    }
   ],
   "source": [
    "isprime = False\t\n",
    "while(isprime == False):\n",
    "\ta = randint(1, p-1)\n",
    "\tisprime = checkprime(a)\n",
    "    \n",
    "isprime = False\t\n",
    "while(isprime == False):\n",
    "\tb = randint(1, p-1)\n",
    "\tisprime = checkprime(b)\n",
    "    \n",
    "print(\"a = {}, b = {}\\n\".format(a, b))"
   ]
  },
  {
   "cell_type": "markdown",
   "metadata": {},
   "source": [
    "## 3. Obliczenie wiadomości \n",
    "Alica i Bob obliczają w tajemnicy dwie wartości A (Alice) and B (Bob):\n",
    "* $A = g^a\\ mod\\ p $\n",
    "* $B = g^b\\ mod\\ p $"
   ]
  },
  {
   "cell_type": "code",
   "execution_count": 6,
   "metadata": {},
   "outputs": [
    {
     "name": "stdout",
     "output_type": "stream",
     "text": [
      "A = 157, B = 96\n",
      "\n"
     ]
    }
   ],
   "source": [
    "A = pow(q, a) % p\n",
    "B = pow(q, b) % p\n",
    "\n",
    "print(\"A = {}, B = {}\\n\".format(A, B))"
   ]
  },
  {
   "cell_type": "markdown",
   "metadata": {},
   "source": [
    "## 4. Wymiena danych i obliczenie kluczy \n",
    "Alice i Bob przesyłają sobie nawzajem A i B otwartym kanałem i każde z nich oblicza wiadomość K\n",
    "* $K1 = B^a mod p$\n",
    "* $K2 = A^b mod p$"
   ]
  },
  {
   "cell_type": "code",
   "execution_count": 7,
   "metadata": {},
   "outputs": [
    {
     "name": "stdout",
     "output_type": "stream",
     "text": [
      "K1 = 138, K2 = 138\n",
      "\n"
     ]
    }
   ],
   "source": [
    "K1 = pow(B, a) % p\n",
    "K2 = pow(A, b) % p\n",
    "\n",
    "print(\"K1 = {}, K2 = {}\\n\".format(K1, K2))"
   ]
  },
  {
   "cell_type": "markdown",
   "metadata": {},
   "source": [
    "K1 i K2 są takie same. Alice i Bob bezpiecznie uzgodnili klucza. Ewa zna jedynie A, B, q i p . Aby wyliczyć K1 i K2 musi znaleść logarytm dyskretny modulo p: $a = \\log_q A\\ (mod\\ p)$"
   ]
  },
  {
   "cell_type": "code",
   "execution_count": null,
   "metadata": {
    "collapsed": true
   },
   "outputs": [],
   "source": []
  }
 ],
 "metadata": {
  "kernelspec": {
   "display_name": "Python 3",
   "language": "python",
   "name": "python3"
  },
  "language_info": {
   "codemirror_mode": {
    "name": "ipython",
    "version": 3
   },
   "file_extension": ".py",
   "mimetype": "text/x-python",
   "name": "python",
   "nbconvert_exporter": "python",
   "pygments_lexer": "ipython3",
   "version": "3.6.8"
  }
 },
 "nbformat": 4,
 "nbformat_minor": 2
}

