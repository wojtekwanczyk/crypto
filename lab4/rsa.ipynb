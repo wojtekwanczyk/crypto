{
 "cells": [
  {
   "cell_type": "markdown",
   "metadata": {},
   "source": [
    "# Kryptografia asymetryczna - kryptosystem RSA \n",
    "Kryptografia asymetryczna charakteryzuje się wykorzystaniem **pary kluczy publiczny-prywatny** (stąd nazwa kryptografia z kluczem publicznym). Klucz publiczny może być swobodnie dystrybuowany otwartym kanałem i służy do szyfrowania (a także do weryfikowania podpisu). Klucz prywatny musi być utrzymywany w tajności i służy do deszyfrowania (lub tworzenia podpisu). \n",
    "\n",
    "Chronologicznie pierwszym kryptosystemem asymetrycznym był protokół wymiany kluczu Diffiego-Hellmana-Merkla. Służy on bezpiecznej wymiany danych, które mogą być wykorzystane jako tajne klucze kryptograficzne lub mogą być użyte do wyprodukowania kluczy. \n",
    "\n",
    "Najbardziej znanym kryptosystem z kluczem publicznym jest RSA (nazwa pochodzi od wynalazów: Rivest, Shamir i Adlemann). RSA umożliwia szyfrowanie danych jak również realizację podpisu cyfrowego. Bezpieczeństwo RSA opiera się na obliczeniowej trudności rozwiązania **problemu faktoryzacji liczb całkowitych złożonych**. "
   ]
  },
  {
   "cell_type": "code",
   "execution_count": 3,
   "metadata": {
    "collapsed": true
   },
   "outputs": [],
   "source": [
    "## Funkcje pomocnicze \n",
    "def gcd(a, b):\n",
    "    # GCD - Greatest Common Divisor, Największy wspólny dzielnik \n",
    "    while a != 0:\n",
    "        a, b = b % a, a\n",
    "    return b\n",
    "\n",
    "def findModInverse(a, m):\n",
    "    # Zwraca liczbę x odwrotną do a ciele skończonym modulo m \n",
    "    # czyli (a*x) % m =1 \n",
    "\n",
    "    if gcd(a, m) != 1:\n",
    "        return None #a i m muszą być względnie pierwsze aby istniał element odwrotny \n",
    "\n",
    "    # Rozszerzony algorytm Euklidesa \n",
    "    u1, u2, u3 = 1, 0, a\n",
    "    v1, v2, v3 = 0, 1, m\n",
    "    while v3 != 0:\n",
    "        q = u3 // v3 # // operator dzielenie całkowitoliczbowego \n",
    "        v1, v2, v3, u1, u2, u3 = (u1 - q * v1), (u2 - q * v2), (u3 - q * v3), v1, v2, v3\n",
    "    return u1 % m"
   ]
  },
  {
   "cell_type": "markdown",
   "metadata": {},
   "source": [
    "## Generowanie kluczy w kryptosystemie RSA\n",
    "\n",
    "### 1. Losujemy dwie duże liczby pierwsze \n",
    "Potrzebujemy dwóch liczb pierwszych o naprawdę dużych rozmiarach - 2048 bitów obecnie uważa się niezbyt bezpieczny wybór. 4096 bitów jest z kolei wielkością nieco kłopotliwą w użytkowaniu. \n",
    "#### Skąd wziąć liczbę pierwszą? \n",
    "**Wylosować i sprawdzić czy jest pierwsza!**\n",
    "\n",
    "\n",
    "Test probabilistyczny, np. Rabina-Millera. "
   ]
  },
  {
   "cell_type": "code",
   "execution_count": 39,
   "metadata": {},
   "outputs": [
    {
     "name": "stdout",
     "output_type": "stream",
     "text": [
      "655337  jest liczbą pierwszą\n",
      "True\n"
     ]
    }
   ],
   "source": [
    "###### Test pierwszości Rabina-Millera\n",
    "import random\n",
    "\n",
    "def rabinMiller(num):\n",
    "    d = num - 1    ##obliczamy wartości d i sa\n",
    "    s = 0\n",
    "    while d % 2 == 0:   ##usuwamy z num-1 dzielniki 2 zliczając je w s\n",
    "        d = d // 2\n",
    "        s += 1\n",
    "\n",
    "    for trials in range(6):   ## wykonujemy n testów R-B \n",
    "        a = random.randrange(2, num - 1)  ##losujemy baze a\n",
    "        b = pow(a, d, num)   ### pierwszy wyraz ciągu\n",
    "        if (b != 1) and (b != num-1): ## jeśli b nie spełnia warunków losujemy innego świadka\n",
    "            i = 1\n",
    "            while (i < s) and (b != (num - 1)):\n",
    "                b = (b ** 2) % num   ## obliczamy kolejne wyrazy ciągu R-M \n",
    "                if(b==1):          ## tylko ostatni wyraz może mieć wartość 1\n",
    "                    return False \n",
    "                i+=1\n",
    "                \n",
    "            if(b!=num-1):  ##przedpstatni wyraz musi mieć wartość num -1   \n",
    "                return False                \n",
    "    ### jeśli wykonaliśmy n testów i żaden nie zakończył się False \n",
    "    return True\n",
    "\n",
    "\n",
    "\n",
    "def isPrime(num):\n",
    "    if (num <= 2):\n",
    "        return False # oczywista oczywistość \n",
    "    #opcjonalne można sprawdzić czy małe liczby pierwsze nie są czynnikami badanej liczby\n",
    "    \n",
    "    return rabinMiller(num)\n",
    "\n",
    "#napisz funkcję generującą liczbę pierwszą \n",
    "\n",
    "\n",
    "testedNumber=655337\n",
    "\n",
    "if(isPrime(testedNumber)):\n",
    "    print(testedNumber, \" jest liczbą pierwszą\")\n",
    "else:\n",
    "    print(testedNumber, \" nie jest liczbą pierwszą\")\n",
    "\n",
    "newprime =  generatePrime(16)   \n",
    "print(isPrime(newprime))\n"
   ]
  },
  {
   "cell_type": "markdown",
   "metadata": {},
   "source": [
    "## Problem \n",
    "1. Napisz funkcję generującą liczbę pierwszą o określonej długości w bitach. \n",
    "\n",
    "## Zastanów się \n",
    "1. Znajdź zestawienie liczb silnie pseudopierwszych i sprawdź działanie (pojedynczego!) testy R-M dla takich liczb\n",
    "2. Ile testów R-M należy przeprowadzić aby osiągnąć bezpieczny poziom pewności testu\n",
    "3. Oszacuj lub poszukaj informacji o złożoności testu R-M. "
   ]
  },
  {
   "cell_type": "markdown",
   "metadata": {},
   "source": [
    "#### Test AKS\n",
    "Test Agraval-Kayal-Saxena jest pierwszym deterministycznym testem pierwszości (artykuł Primes is in P). \n",
    "\n",
    "Sprawdź poprawność działania testu R-M przy pomocy AKS. "
   ]
  },
  {
   "cell_type": "code",
   "execution_count": 5,
   "metadata": {},
   "outputs": [
    {
     "name": "stdout",
     "output_type": "stream",
     "text": [
      "10041462933118313583672041643590011936611471289\n",
      "Testing Number: 41047\n",
      "[+]41047 is a Prime Number Step 5\n",
      "True\n",
      "Testing Number: 10041462933118313583672041643590011936611471289\n",
      "[-]10041462933118313583672041643590011936611471289 is no Prime 1\n",
      "None\n",
      "Testing Number: 42899\n",
      "[+]42899 is a Prime Number Step 5\n",
      "True\n",
      "Testing Number: 25326001\n",
      "[-]25326001 is no Prime 5\n",
      "False\n"
     ]
    }
   ],
   "source": [
    "import math\n",
    "\n",
    "def exp_func(x, y, m):\n",
    "    exp = bin(y)\n",
    "    value = x\n",
    " \n",
    "    for i in range(3, len(exp)):\n",
    "        value = value * value % m\n",
    "        if(exp[i:i+1]=='1'):\n",
    "            value = value*x % m\n",
    "    return value\n",
    "\n",
    "def phi(n):\n",
    "    amount = 0\n",
    "    for k in range(1, n + 1):\n",
    "        if math.gcd(k, n) == 1:\n",
    "            amount += 1\n",
    "    return amount\n",
    "\n",
    "def step1(n):\n",
    "    for b in range(2,int(math.log2(n)+1)):\n",
    "        a = n**(1/b)\n",
    "        if math.floor(a) == a:\n",
    "            print(\"[-]\"+str(n)+\" is no Prime 1\")\n",
    "            return False\n",
    "    return True\n",
    "\n",
    "def step2(n):\n",
    "    mk = math.log2(n)**2\n",
    "    nexr = True\n",
    "    r = 1\n",
    "    while nexr == True:\n",
    "        r += 1\n",
    "        nexr = False\n",
    "        k = 0\n",
    "        while k <= mk and nexr == False:\n",
    "            k = k+1\n",
    "            if exp_func(n,k,r) == 0 or exp_func(n,k,r) == 1:\n",
    "                nexr = True\n",
    "    return r\n",
    "        \n",
    "\n",
    "def step3 (n, r):\n",
    "    for a in range(1,r+1):\n",
    "        if ((1 < math.gcd(a, n)) and (math.gcd(a,n) < n)):\n",
    "            print(\"[-]\"+str(n)+\" is no Prime 3\")\n",
    "            return False\n",
    "\n",
    "def step4(n, r):\n",
    "    if n > 5690034:\n",
    "        if n <= r:\n",
    "            print(\"[+]\"+str(n)+\" is a Prime Step 4\")\n",
    "            return True\n",
    "\n",
    "\n",
    "def step5(n, r):\n",
    "    x = 7\n",
    "    max = math.sqrt(phi(r))\n",
    "    rn = math.floor(max*math.log2(n))\n",
    "    cache = exp_func(x,n,n)\n",
    "    for a in range(1, rn+1):\n",
    "        b = exp_func((x+a),n,n) #((x + a) ** n) % n\n",
    "        l = (cache+a)%n #(x ** n + a) % n\n",
    "        if b != l:\n",
    "            print(\"[-]\"+str(n)+\" is no Prime 5\")\n",
    "            return False\n",
    "    print(\"[+]\"+str(n)+\" is a Prime Number Step 5\")\n",
    "    return True\n",
    "\n",
    "\n",
    "def aks(n):\n",
    "    print(\"Testing Number: \"+str(n))\n",
    "    if step1(n) == True:\n",
    "        r = step2(n)\n",
    "        if step3(n, r) != False:\n",
    "            if step4(n, r) != True:\n",
    "                return step5(n, r)\n",
    "\n",
    "\n",
    "        \n",
    "#for i in range(2,1000):\n",
    "#   aks(i)\n",
    "\n",
    "print(100207100213100237100267*100207100213100237100267)\n",
    "print(aks(41047))\n",
    "print(aks(10041462933118313583672041643590011936611471289))\n",
    "print(aks(42899))\n",
    "print(aks(25326001))\n",
    "#aks(671998030559713968361666935769)\n",
    "\n"
   ]
  },
  {
   "cell_type": "markdown",
   "metadata": {},
   "source": [
    "## Zastanów się\n",
    "Dlaczego test Rabina-Millera stosowany jest częściej niż AKS? "
   ]
  },
  {
   "cell_type": "code",
   "execution_count": null,
   "metadata": {
    "collapsed": true
   },
   "outputs": [],
   "source": [
    "import pylab\n",
    "import numpy\n",
    "\n",
    "x = numpy.linspace(1,30,200) \n",
    "#y = numpy. Złożoność testu AKS\n",
    "w = numpy.linspace(1,30,200) \n",
    "#v = numpy. Złożoność testu R-M \n",
    "\n",
    "pylab.plot(x,y)\n",
    "pylab.plot(w,v)\n",
    "pylab.show() "
   ]
  },
  {
   "cell_type": "markdown",
   "metadata": {},
   "source": [
    "#### 2. Obliczamy składniki kluczy \n",
    "1. Wybieramy dwie duże liczby pierwsze $p$ i $q$\n",
    "2. Pierwszym składnikiem klucza jest moduł $n$: $n=p \\times q$ \n",
    "3. Poszukujemy wykładnika publicznego $e$, który jest względnie pierwszy z $(p-1) * (q-1)$\n",
    "4. Poszukujemy wykładnika prywatnego $d$, które jest odwrotnością $e\\ (mod\\ (p-1)(q-1))$: $de = 1  (mod\\ (p-1)(q-1))$\n",
    "5. Kluczem publiczny jest para $(n, e)$, kluczem prywatnym jest para $(n, d)$."
   ]
  },
  {
   "cell_type": "code",
   "execution_count": 6,
   "metadata": {},
   "outputs": [
    {
     "name": "stdout",
     "output_type": "stream",
     "text": [
      "Generujemy klucze publiczny i prywatny\n",
      "1. Generujemy liczby p i q\n",
      "2. Generujemy wykładnik publiczny (względnie pierwszy z (p-1)(q-1))\n",
      "3. Obliczamy wykładnik prywatny: odwrotność e modulo (p-1)(q-1c)\n",
      "Klucz publiczny: ()\n",
      "Klucz prywatny: ()\n",
      "() ()\n"
     ]
    }
   ],
   "source": [
    "import random, sys, os\n",
    "\n",
    "def generateKey(keySize):\n",
    "    print('1. Generujemy liczby p i q')\n",
    "   \n",
    "\n",
    "    print('2. Generujemy wykładnik publiczny (względnie pierwszy z (p-1)(q-1))')\n",
    "    # np. poszukiwanie losowe  \n",
    "  \n",
    "    print('3. Obliczamy wykładnik prywatny: odwrotność e modulo (p-1)(q-1c)')\n",
    "\n",
    "    publicKey = ()\n",
    "    privateKey = ()\n",
    "    print('Klucz publiczny:', publicKey)\n",
    "    print('Klucz prywatny:', privateKey)\n",
    "    return (publicKey, privateKey)\n",
    "\n",
    "def makeKeyFiles(keySize):\n",
    "    public, private = generateKey(16)\n",
    "    print(public, private)\n",
    "  \n",
    "print('Generujemy klucze publiczny i prywatny')\n",
    "makeKeyFiles(8)"
   ]
  },
  {
   "cell_type": "markdown",
   "metadata": {},
   "source": [
    "## Szyfrowanie RSA \n",
    "Operacja szyfrowania: $c=m^e (mod\\ n)$"
   ]
  },
  {
   "cell_type": "code",
   "execution_count": 7,
   "metadata": {},
   "outputs": [
    {
     "name": "stdout",
     "output_type": "stream",
     "text": [
      "1. Generujemy liczby p i q\n",
      "2. Generujemy wykładnik publiczny (względnie pierwszy z (p-1)(q-1))\n",
      "3. Obliczamy wykładnik prywatny: odwrotność e modulo (p-1)(q-1c)\n",
      "Klucz publiczny: ()\n",
      "Klucz prywatny: ()\n",
      "() ()\n"
     ]
    },
    {
     "ename": "IndexError",
     "evalue": "tuple index out of range",
     "output_type": "error",
     "traceback": [
      "\u001b[0;31m---------------------------------------------------------------------------\u001b[0m",
      "\u001b[0;31mIndexError\u001b[0m                                Traceback (most recent call last)",
      "\u001b[0;32m<ipython-input-7-8bf4ed3110b0>\u001b[0m in \u001b[0;36m<module>\u001b[0;34m\u001b[0m\n\u001b[1;32m      8\u001b[0m \u001b[0mprint\u001b[0m\u001b[0;34m(\u001b[0m\u001b[0mkeyPublic\u001b[0m\u001b[0;34m,\u001b[0m \u001b[0mkeyPrivate\u001b[0m\u001b[0;34m)\u001b[0m\u001b[0;34m\u001b[0m\u001b[0;34m\u001b[0m\u001b[0m\n\u001b[1;32m      9\u001b[0m \u001b[0;34m\u001b[0m\u001b[0m\n\u001b[0;32m---> 10\u001b[0;31m \u001b[0mciphertext\u001b[0m\u001b[0;34m=\u001b[0m \u001b[0mencrypt\u001b[0m\u001b[0;34m(\u001b[0m\u001b[0;34m'Hello world'\u001b[0m\u001b[0;34m,\u001b[0m \u001b[0mkeyPublic\u001b[0m\u001b[0;34m[\u001b[0m\u001b[0;36m0\u001b[0m\u001b[0;34m]\u001b[0m\u001b[0;34m,\u001b[0m \u001b[0mkeyPublic\u001b[0m\u001b[0;34m[\u001b[0m\u001b[0;36m1\u001b[0m\u001b[0;34m]\u001b[0m\u001b[0;34m)\u001b[0m\u001b[0;34m\u001b[0m\u001b[0;34m\u001b[0m\u001b[0m\n\u001b[0m\u001b[1;32m     11\u001b[0m \u001b[0mprint\u001b[0m\u001b[0;34m(\u001b[0m\u001b[0mciphertext\u001b[0m\u001b[0;34m)\u001b[0m\u001b[0;34m\u001b[0m\u001b[0;34m\u001b[0m\u001b[0m\n",
      "\u001b[0;31mIndexError\u001b[0m: tuple index out of range"
     ]
    }
   ],
   "source": [
    "def encrypt(message, modulus, exp):\n",
    "    # kod szyfrowania     \n",
    " \n",
    "    return message_encrypted\n",
    "\n",
    "\n",
    "keyPublic, keyPrivate = generateKey(8)\n",
    "print(keyPublic, keyPrivate)\n",
    "\n",
    "ciphertext= encrypt('Hello world', keyPublic[0], keyPublic[1])\n",
    "print(ciphertext)"
   ]
  },
  {
   "cell_type": "markdown",
   "metadata": {},
   "source": [
    "## Deszyfrowanie RSA \n",
    "Operacja szyfrowanie $m = c^d (mod\\ n)$"
   ]
  },
  {
   "cell_type": "code",
   "execution_count": null,
   "metadata": {
    "collapsed": true
   },
   "outputs": [],
   "source": [
    "def decrypt(message_encrypted, modulus, exp):\n",
    "    \n",
    "   # kod deszyfrowania \n",
    "\n",
    "    return ('').join(message)\n",
    "\n",
    "plaintext = decrypt(ciphertext, keyPrivate[0], keyPrivate[1])\n",
    "print(plaintext)"
   ]
  },
  {
   "cell_type": "markdown",
   "metadata": {},
   "source": [
    "## Zastanów się\n",
    "1. Sprawdź działanie powyższej implementacji dla różnych wielkości klucza (podawane podczas generowania kluczy). \n",
    "2. Poszukaj informacji o trybie podręcznikowym RSA (*textbook RSA encryption*). Na czym polega? Jakie są jego wady i zalety? "
   ]
  },
  {
   "cell_type": "markdown",
   "metadata": {},
   "source": [
    "## Zadanie dodatkowe\n",
    "1. Przeprowadź dowód poprownosci systemu RSA "
   ]
  }
 ],
 "metadata": {
  "kernelspec": {
   "display_name": "Python 3",
   "language": "python",
   "name": "python3"
  },
  "language_info": {
   "codemirror_mode": {
    "name": "ipython",
    "version": 3
   },
   "file_extension": ".py",
   "mimetype": "text/x-python",
   "name": "python",
   "nbconvert_exporter": "python",
   "pygments_lexer": "ipython3",
   "version": "3.6.8"
  }
 },
 "nbformat": 4,
 "nbformat_minor": 2
}

